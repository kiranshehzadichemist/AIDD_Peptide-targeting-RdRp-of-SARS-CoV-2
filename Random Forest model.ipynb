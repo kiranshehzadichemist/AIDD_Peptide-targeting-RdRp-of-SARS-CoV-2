import pandas as pd
import numpy as np
from sklearn.preprocessing import LabelEncoder
from collections import defaultdict
from itertools import combinations

# Load interaction data
df = pd.read_csv('/content/aa_interactions.csv')

# Extract amino acid types from residue information
def extract_aa(residue):
    return residue[:3].upper()  # First 3 characters are amino acid code

# Create interaction pairs
interaction_pairs = []
for _, row in df.iterrows():
    aa1 = extract_aa(row['Residue1'])
    aa2 = extract_aa(row['Residue2'])
    interaction_pairs.append((aa1, aa2, row['Distance']))

# Create affinity matrix
aa_list = sorted(set([p[0] for p in interaction_pairs] + [p[1] for p in interaction_pairs]))
affinity_matrix = pd.DataFrame(0, index=aa_list, columns=aa_list, dtype=float)
distance_matrix = pd.DataFrame(0, index=aa_list, columns=aa_list, dtype=float)
count_matrix = pd.DataFrame(0, index=aa_list, columns=aa_list, dtype=int)

for aa1, aa2, dist in interaction_pairs:
    count_matrix.loc[aa1, aa2] += 1
    distance_matrix.loc[aa1, aa2] += dist
    # Add reverse interaction
    count_matrix.loc[aa2, aa1] += 1
    distance_matrix.loc[aa2, aa1] += dist

# Calculate average distance and affinity percentage
for aa in aa_list:
    total = count_matrix.loc[aa].sum()
    if total > 0:
        affinity_matrix.loc[aa] = count_matrix.loc[aa] / total * 100
        distance_matrix.loc[aa] = distance_matrix.loc[aa] / count_matrix.loc[aa]

# Fill NaN values with max distance
distance_matrix = distance_matrix.fillna(distance_matrix.max().max())

print("Affinity Matrix (%):")
print(affinity_matrix.head())

print("\nAverage Distance Matrix (Å):")
print(distance_matrix.head())

# Save matrices
affinity_matrix.to_csv('amino_acid_affinity_matrix.csv')
distance_matrix.to_csv('amino_acid_distance_matrix.csv')

# Prepare dataset for ML model
data = []
for aa1, aa2, dist in interaction_pairs:
    data.append({
        'AA1': aa1,
        'AA2': aa2,
        'Affinity': affinity_matrix.loc[aa1, aa2],
        'AvgDistance': distance_matrix.loc[aa1, aa2],
        'Interaction': 1  # Positive sample
    })

# Create negative samples (non-interacting pairs)
all_aa = list(affinity_matrix.index)
existing_pairs = set([(p[0], p[1]) for p in interaction_pairs])
negative_samples = []

for _ in range(len(data)):  # Create balanced dataset
    aa1, aa2 = np.random.choice(all_aa, 2, replace=False)
    if (aa1, aa2) not in existing_pairs and (aa2, aa1) not in existing_pairs:
        negative_samples.append({
            'AA1': aa1,
            'AA2': aa2,
            'Affinity': 0,
            'AvgDistance': distance_matrix.loc[aa1, aa2],
            'Interaction': 0
        })

full_data = data + negative_samples[:len(data)]
ml_df = pd.DataFrame(full_data)

# Encode amino acids
le = LabelEncoder()
le.fit(all_aa)
ml_df['AA1_encoded'] = le.transform(ml_df['AA1'])
ml_df['AA2_encoded'] = le.transform(ml_df['AA2'])

# Save ML-ready dataset
ml_df.to_csv('amino_acid_interaction_dataset.csv', index=False)

# Example: Predict potential inhibitors for a target sequence
def predict_inhibitors(target_sequence, top_n=5):
    """
    Predict top inhibitor amino acids for a given target sequence
    target_sequence: List of amino acid codes (e.g., ['ARG', 'LYS', 'ASP'])
    """
    target_aa = [extract_aa(aa) for aa in target_sequence]

    # Calculate average affinity scores
    scores = defaultdict(float)
    for aa in target_aa:
        for potential_aa in all_aa:
            scores[potential_aa] += affinity_matrix.loc[aa, potential_aa]

    # Normalize scores
    total = len(target_aa)
    scores = {k: v/total for k, v in scores.items()}

    # Exclude amino acids already in target
    for aa in target_aa:
        if aa in scores:
            del scores[aa]

    # Get top candidates
    sorted_scores = sorted(scores.items(), key=lambda x: x[1], reverse=True)
    return sorted_scores[:top_n]

# Example usage
target = ['LYS', 'ARG']
print(f"\nTop inhibitor candidates for {target}:")
print(predict_inhibitors(target))