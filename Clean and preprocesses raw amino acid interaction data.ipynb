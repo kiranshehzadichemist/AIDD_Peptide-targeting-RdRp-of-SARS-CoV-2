import pandas as pd
import numpy as np

# Load data with type specification and cleaning
df = pd.read_csv('/content/aa_interactions.csv', dtype={
    'Residue1': str,
    'Residue2': str
}).dropna(subset=['Residue1', 'Residue2'])

# Improved amino acid extraction with error handling
def extract_aa(residue):
    """Safely extract 3-letter amino acid code from various formats"""
    try:
        # Remove numbers and special characters
        cleaned = ''.join([c for c in str(residue) if c.isalpha()])
        return cleaned[:3].upper() if len(cleaned) >= 3 else 'UNK'
    except:
        return 'UNK'

# Create validated interaction pairs
valid_pairs = []
invalid_count = 0

for _, row in df.iterrows():
    try:
        aa1 = extract_aa(row['Residue1'])
        aa2 = extract_aa(row['Residue2'])

        if aa1 == 'UNK' or aa2 == 'UNK':
            invalid_count += 1
            continue

        valid_pairs.append((
            aa1,
            aa2,
            float(row['Distance']),
            row['Atom1'],
            row['Atom2']
        ))
    except Exception as e:
        invalid_count += 1
        continue

print(f"Cleaned data: {len(valid_pairs)} valid interactions")
print(f"Skipped {invalid_count} invalid entries")

# Create DataFrame from cleaned data
clean_df = pd.DataFrame(valid_pairs, columns=[
    'Residue1', 'Residue2', 'Distance', 'Atom1', 'Atom2'
])

# Proceed with analysis using clean_df
# ... [rest of your analysis code] ...