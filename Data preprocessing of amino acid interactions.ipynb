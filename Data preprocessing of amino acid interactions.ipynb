def predict_interaction(aa1, aa2, model):
    aa1_code = extract_aa(aa1)
    aa2_code = extract_aa(aa2)
    encoded_aa1 = le.transform([aa1_code])[0]
    encoded_aa2 = le.transform([aa2_code])[0]
    avg_dist = distance_matrix.loc[aa1_code, aa2_code]
    return model.predict_proba([[encoded_aa1, encoded_aa2, avg_dist]])[0][1]

# Example prediction
print("Interaction probability between ARG and ASP:",
      predict_interaction('ARG', 'ASP', model))