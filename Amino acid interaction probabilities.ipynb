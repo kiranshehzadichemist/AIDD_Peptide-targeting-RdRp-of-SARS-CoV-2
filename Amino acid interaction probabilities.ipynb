from sklearn.ensemble import RandomForestClassifier
from sklearn.model_selection import train_test_split

# Load prepared dataset
ml_df = pd.read_csv('amino_acid_interaction_dataset.csv')

# Split data
X = ml_df[['AA1_encoded', 'AA2_encoded', 'AvgDistance']]
y = ml_df['Interaction']
X_train, X_test, y_train, y_test = train_test_split(X, y, test_size=0.2)

# Train classifier
model = RandomForestClassifier(n_estimators=100)
model.fit(X_train, y_train)

# Evaluate
print("Test accuracy:", model.score(X_test, y_test))

# Save model
import joblib
joblib.dump(model, 'amino_acid_interaction_model.pkl')